{
 "cells": [
  {
   "cell_type": "code",
   "execution_count": 1,
   "metadata": {},
   "outputs": [
    {
     "name": "stderr",
     "output_type": "stream",
     "text": [
      "/opt/homebrew/lib/python3.9/site-packages/torchvision/io/image.py:11: UserWarning: Failed to load image Python extension: \n",
      "  warn(f\"Failed to load image Python extension: {e}\")\n"
     ]
    }
   ],
   "source": [
    "import torch\n",
    "from torch import nn\n",
    "from torchvision import transforms\n",
    "from torchvision.transforms.functional import to_pil_image\n",
    "from torch.utils.data import DataLoader\n",
    "from torchvision.datasets import CelebA\n",
    "import matplotlib.pyplot as plt\n",
    "\n",
    "from utils.image import *\n",
    "from utils.io import *\n",
    "from modules.conv2d_resblock import Conv2DResBlock\n"
   ]
  },
  {
   "cell_type": "code",
   "execution_count": 27,
   "metadata": {},
   "outputs": [],
   "source": [
    "class IIF(nn.Module):\n",
    "    def __init__(self, dims=3, channels=128, blocks=8):\n",
    "        super().__init__()\n",
    "\n",
    "        self.dims = dims\n",
    "\n",
    "        self.encoder = nn.Sequential(\n",
    "            nn.Conv2d(self.dims, channels, 9, 1, 4),\n",
    "            Conv2DResBlock(channels, channels, 5, 1, 2),\n",
    "            Conv2DResBlock(channels, channels, 5, 1, 2),\n",
    "            Conv2DResBlock(channels, channels, 5, 1, 2),\n",
    "            Conv2DResBlock(channels, channels, 5, 1, 2),\n",
    "            nn.Conv2d(channels, self.dims, 1, 1, 0),\n",
    "        )\n",
    "\n",
    "        self.decoder = nn.Sequential(\n",
    "            nn.Linear(2 + 32 * 32 * 3, 256),\n",
    "            nn.ReLU(),\n",
    "            nn.Linear(256, 256),\n",
    "            nn.ReLU(),\n",
    "            nn.Linear(256, 128),\n",
    "            nn.ReLU(),\n",
    "            nn.Linear(128, 128),\n",
    "            nn.ReLU(),\n",
    "            nn.Linear(128, 64),\n",
    "            nn.ReLU(),\n",
    "            nn.Linear(64, 64),\n",
    "            nn.ReLU(),\n",
    "            nn.Linear(64, 3),\n",
    "        )\n",
    "\n",
    "    def _sample_latent(self, Z, x):\n",
    "        z = Z\n",
    "        return z\n",
    "\n",
    "    def forward(self, image, mask, x):\n",
    "        Z = self.encoder(image.unsqueeze(0))\n",
    "        Z *= mask\n",
    "        z = self._sample_latent(Z, x)\n",
    "        # Z: 3, 32, 32\n",
    "        # x: n, 2\n",
    "\n",
    "        z = z.flatten()\n",
    "        # z: 3072\n",
    "\n",
    "        decoder_input = torch.hstack((x, z.unsqueeze(0).repeat(x.shape[0], 1)))\n",
    "        s = self.decoder(decoder_input)\n",
    "\n",
    "        return s\n"
   ]
  },
  {
   "cell_type": "code",
   "execution_count": 28,
   "metadata": {},
   "outputs": [],
   "source": [
    "device = torch.device(\"cpu\")\n",
    "dataset = CelebA(\n",
    "    \"data\",\n",
    "    \"train\",\n",
    "    download=False,\n",
    "    transform=transforms.Compose([transforms.ToTensor(), transforms.Resize((32, 32))]),\n",
    ")\n",
    "dataloader = DataLoader(dataset, 1, shuffle=True, num_workers=4)\n"
   ]
  },
  {
   "cell_type": "code",
   "execution_count": 29,
   "metadata": {},
   "outputs": [],
   "source": [
    "model = IIF().to(device)\n",
    "optimizer = torch.optim.AdamW(model.parameters(), lr=1e-4)\n"
   ]
  },
  {
   "cell_type": "code",
   "execution_count": 30,
   "metadata": {},
   "outputs": [
    {
     "name": "stdout",
     "output_type": "stream",
     "text": [
      "iteration 0 - loss 0.14635750651359558\n",
      "iteration 100 - loss 0.045624539256095886\n",
      "iteration 200 - loss 0.09991331398487091\n",
      "iteration 300 - loss 0.08208592236042023\n",
      "iteration 400 - loss 0.08651736378669739\n",
      "iteration 500 - loss 0.06013581156730652\n",
      "iteration 600 - loss 0.053919266909360886\n",
      "iteration 700 - loss 0.02859918400645256\n",
      "iteration 800 - loss 0.08849462121725082\n",
      "iteration 900 - loss 0.02889411710202694\n",
      "iteration 1000 - loss 0.05093951150774956\n",
      "iteration 1100 - loss 0.03794199228286743\n",
      "iteration 1200 - loss 0.0942288339138031\n",
      "iteration 1300 - loss 0.04269646853208542\n",
      "iteration 1400 - loss 0.06981123983860016\n",
      "iteration 1500 - loss 0.05937052518129349\n",
      "iteration 1600 - loss 0.0811765044927597\n",
      "iteration 1700 - loss 0.1314450353384018\n",
      "iteration 1800 - loss 0.05205189064145088\n",
      "iteration 1900 - loss 0.05653676390647888\n",
      "iteration 2000 - loss 0.04223156347870827\n",
      "iteration 2100 - loss 0.06274109333753586\n",
      "iteration 2200 - loss 0.07501685619354248\n",
      "iteration 2300 - loss 0.03782681003212929\n",
      "iteration 2400 - loss 0.07930061966180801\n",
      "iteration 2500 - loss 0.038477249443531036\n",
      "iteration 2600 - loss 0.03649025782942772\n",
      "iteration 2700 - loss 0.038469985127449036\n"
     ]
    },
    {
     "ename": "KeyboardInterrupt",
     "evalue": "",
     "output_type": "error",
     "traceback": [
      "\u001b[0;31m---------------------------------------------------------------------------\u001b[0m",
      "\u001b[0;31mKeyboardInterrupt\u001b[0m                         Traceback (most recent call last)",
      "\u001b[0;32m<ipython-input-30-10ff65b1ba97>\u001b[0m in \u001b[0;36m<module>\u001b[0;34m\u001b[0m\n\u001b[1;32m     35\u001b[0m \u001b[0;34m\u001b[0m\u001b[0m\n\u001b[1;32m     36\u001b[0m         \u001b[0mloss\u001b[0m \u001b[0;34m=\u001b[0m \u001b[0;34m(\u001b[0m\u001b[0;34m(\u001b[0m\u001b[0ms\u001b[0m \u001b[0;34m-\u001b[0m \u001b[0ms_pred\u001b[0m\u001b[0;34m)\u001b[0m \u001b[0;34m**\u001b[0m \u001b[0;36m2\u001b[0m\u001b[0;34m)\u001b[0m\u001b[0;34m.\u001b[0m\u001b[0mmean\u001b[0m\u001b[0;34m(\u001b[0m\u001b[0;34m)\u001b[0m\u001b[0;34m\u001b[0m\u001b[0;34m\u001b[0m\u001b[0m\n\u001b[0;32m---> 37\u001b[0;31m         \u001b[0mloss\u001b[0m\u001b[0;34m.\u001b[0m\u001b[0mbackward\u001b[0m\u001b[0;34m(\u001b[0m\u001b[0;34m)\u001b[0m\u001b[0;34m\u001b[0m\u001b[0;34m\u001b[0m\u001b[0m\n\u001b[0m\u001b[1;32m     38\u001b[0m         \u001b[0moptimizer\u001b[0m\u001b[0;34m.\u001b[0m\u001b[0mstep\u001b[0m\u001b[0;34m(\u001b[0m\u001b[0;34m)\u001b[0m\u001b[0;34m\u001b[0m\u001b[0;34m\u001b[0m\u001b[0m\n\u001b[1;32m     39\u001b[0m \u001b[0;34m\u001b[0m\u001b[0m\n",
      "\u001b[0;32m/opt/homebrew/lib/python3.9/site-packages/torch/_tensor.py\u001b[0m in \u001b[0;36mbackward\u001b[0;34m(self, gradient, retain_graph, create_graph, inputs)\u001b[0m\n\u001b[1;32m    305\u001b[0m                 \u001b[0mcreate_graph\u001b[0m\u001b[0;34m=\u001b[0m\u001b[0mcreate_graph\u001b[0m\u001b[0;34m,\u001b[0m\u001b[0;34m\u001b[0m\u001b[0;34m\u001b[0m\u001b[0m\n\u001b[1;32m    306\u001b[0m                 inputs=inputs)\n\u001b[0;32m--> 307\u001b[0;31m         \u001b[0mtorch\u001b[0m\u001b[0;34m.\u001b[0m\u001b[0mautograd\u001b[0m\u001b[0;34m.\u001b[0m\u001b[0mbackward\u001b[0m\u001b[0;34m(\u001b[0m\u001b[0mself\u001b[0m\u001b[0;34m,\u001b[0m \u001b[0mgradient\u001b[0m\u001b[0;34m,\u001b[0m \u001b[0mretain_graph\u001b[0m\u001b[0;34m,\u001b[0m \u001b[0mcreate_graph\u001b[0m\u001b[0;34m,\u001b[0m \u001b[0minputs\u001b[0m\u001b[0;34m=\u001b[0m\u001b[0minputs\u001b[0m\u001b[0;34m)\u001b[0m\u001b[0;34m\u001b[0m\u001b[0;34m\u001b[0m\u001b[0m\n\u001b[0m\u001b[1;32m    308\u001b[0m \u001b[0;34m\u001b[0m\u001b[0m\n\u001b[1;32m    309\u001b[0m     \u001b[0;32mdef\u001b[0m \u001b[0mregister_hook\u001b[0m\u001b[0;34m(\u001b[0m\u001b[0mself\u001b[0m\u001b[0;34m,\u001b[0m \u001b[0mhook\u001b[0m\u001b[0;34m)\u001b[0m\u001b[0;34m:\u001b[0m\u001b[0;34m\u001b[0m\u001b[0;34m\u001b[0m\u001b[0m\n",
      "\u001b[0;32m/opt/homebrew/lib/python3.9/site-packages/torch/autograd/__init__.py\u001b[0m in \u001b[0;36mbackward\u001b[0;34m(tensors, grad_tensors, retain_graph, create_graph, grad_variables, inputs)\u001b[0m\n\u001b[1;32m    152\u001b[0m         \u001b[0mretain_graph\u001b[0m \u001b[0;34m=\u001b[0m \u001b[0mcreate_graph\u001b[0m\u001b[0;34m\u001b[0m\u001b[0;34m\u001b[0m\u001b[0m\n\u001b[1;32m    153\u001b[0m \u001b[0;34m\u001b[0m\u001b[0m\n\u001b[0;32m--> 154\u001b[0;31m     Variable._execution_engine.run_backward(\n\u001b[0m\u001b[1;32m    155\u001b[0m         \u001b[0mtensors\u001b[0m\u001b[0;34m,\u001b[0m \u001b[0mgrad_tensors_\u001b[0m\u001b[0;34m,\u001b[0m \u001b[0mretain_graph\u001b[0m\u001b[0;34m,\u001b[0m \u001b[0mcreate_graph\u001b[0m\u001b[0;34m,\u001b[0m \u001b[0minputs\u001b[0m\u001b[0;34m,\u001b[0m\u001b[0;34m\u001b[0m\u001b[0;34m\u001b[0m\u001b[0m\n\u001b[1;32m    156\u001b[0m         allow_unreachable=True, accumulate_grad=True)  # allow_unreachable flag\n",
      "\u001b[0;31mKeyboardInterrupt\u001b[0m: "
     ]
    }
   ],
   "source": [
    "def to_coords(image: torch.Tensor, mask: torch.Tensor):\n",
    "    coords = mask[0].nonzero(as_tuple=True)\n",
    "    return image[:, coords[0], coords[1]].T, mask[0].nonzero()\n",
    "\n",
    "\n",
    "model.train()\n",
    "\n",
    "for epoch in range(100):\n",
    "    for i, (images, _) in enumerate(dataloader):\n",
    "        images = images.to(device)[0]\n",
    "        masked, mask = mask_random(images, 0.7)\n",
    "\n",
    "        s, x = to_coords(masked, mask)\n",
    "\n",
    "        # s: (n, 3)\n",
    "        # x: (n, 2)\n",
    "\n",
    "        optimizer.zero_grad()\n",
    "        s_pred = model(masked, mask, x)\n",
    "\n",
    "        loss = ((s - s_pred) ** 2).mean()\n",
    "        loss.backward()\n",
    "        optimizer.step()\n",
    "\n",
    "        if i % 500 == 0:\n",
    "            print(f\"iteration {i} - loss {loss.item()}\")\n",
    "\n",
    "    print(f\"epoch {epoch}\")\n"
   ]
  },
  {
   "cell_type": "code",
   "execution_count": 52,
   "metadata": {},
   "outputs": [
    {
     "data": {
      "image/png": "[encoded data removed]",
      "text/plain": [
       "<Figure size 432x288 with 1 Axes>"
      ]
     },
     "metadata": {
      "needs_background": "light"
     },
     "output_type": "display_data"
    }
   ],
   "source": [
    "def from_coords(shape, x, s):\n",
    "    image = torch.zeros(shape)\n",
    "    image[:, x.T[0], x.T[1]] = s.T\n",
    "\n",
    "    return image\n",
    "\n",
    "\n",
    "plt.imshow(\n",
    "    to_pil_image(from_coords((3, 32, 32), x, s_pred) + images * mask.logical_not())\n",
    ")\n",
    "plt.show()\n"
   ]
  }
 ],
 "metadata": {
  "interpreter": {
   "hash": "b0fa6594d8f4cbf19f97940f81e996739fb7646882a419484c72d19e05852a7e"
  },
  "kernelspec": {
   "display_name": "Python 3.9.10 64-bit",
   "language": "python",
   "name": "python3"
  },
  "language_info": {
   "codemirror_mode": {
    "name": "ipython",
    "version": 3
   },
   "file_extension": ".py",
   "mimetype": "text/x-python",
   "name": "python",
   "nbconvert_exporter": "python",
   "pygments_lexer": "ipython3",
   "version": "3.9.10"
  },
  "orig_nbformat": 4
 },
 "nbformat": 4,
 "nbformat_minor": 2
}
