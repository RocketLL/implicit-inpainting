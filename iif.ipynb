{
 "cells": [
  {
   "cell_type": "code",
   "execution_count": 2,
   "metadata": {},
   "outputs": [
    {
     "name": "stderr",
     "output_type": "stream",
     "text": [
      "/opt/homebrew/lib/python3.9/site-packages/torchvision/io/image.py:11: UserWarning: Failed to load image Python extension: \n",
      "  warn(f\"Failed to load image Python extension: {e}\")\n"
     ]
    }
   ],
   "source": [
    "import torch\n",
    "from torch import nn\n",
    "from torchvision import transforms\n",
    "from torchvision.transforms.functional import to_pil_image\n",
    "from torch.utils.data import DataLoader\n",
    "from torchvision.datasets import CelebA\n",
    "import matplotlib.pyplot as plt\n",
    "\n",
    "from utils.image import *\n",
    "from utils.io import *\n",
    "from modules.conv2d_resblock import Conv2DResBlock"
   ]
  },
  {
   "cell_type": "code",
   "execution_count": 3,
   "metadata": {},
   "outputs": [],
   "source": [
    "class IIF(nn.Module):\n",
    "    def __init__(self, dims=3, channels=128, blocks=8):\n",
    "        super().__init__()\n",
    "\n",
    "        self.dims = dims\n",
    "\n",
    "        self.encoder = nn.Sequential(\n",
    "            nn.Conv2d(self.dims, channels, 9, 1, 4),\n",
    "            Conv2DResBlock(channels, channels, 5, 1, 2),\n",
    "            Conv2DResBlock(channels, channels, 5, 1, 2),\n",
    "            Conv2DResBlock(channels, channels, 5, 1, 2),\n",
    "            Conv2DResBlock(channels, channels, 5, 1, 2),\n",
    "            nn.Conv2d(channels, self.dims, 1, 1, 0),\n",
    "        )\n",
    "\n",
    "        self.decoder = nn.Sequential(\n",
    "            nn.Linear(2 + 32 * 32 * 3, 256),\n",
    "            nn.ReLU(),\n",
    "            nn.Linear(256, 256),\n",
    "            nn.ReLU(),\n",
    "            nn.Linear(256, 128),\n",
    "            nn.ReLU(),\n",
    "            nn.Linear(128, 128),\n",
    "            nn.ReLU(),\n",
    "            nn.Linear(128, 64),\n",
    "            nn.ReLU(),\n",
    "            nn.Linear(64, 64),\n",
    "            nn.ReLU(),\n",
    "            nn.Linear(64, 3),\n",
    "        )\n",
    "\n",
    "    def _sample_latent(self, Z, x):\n",
    "        z = Z\n",
    "        return z\n",
    "\n",
    "    def forward(self, image, mask, x):\n",
    "        # image: (batch_size, 3, 32, 32)\n",
    "        # mask:  (batch_size, 3, 32, 32)\n",
    "        # x:     (batch_size, n, 2)\n",
    "\n",
    "        Z = self.encoder(image)\n",
    "        Z *= mask\n",
    "        z = self._sample_latent(Z, x)\n",
    "\n",
    "        # Z: (batch_size, 3, 32, 32)\n",
    "        # x: (batch_size, n, 2)\n",
    "\n",
    "        z = z.flatten(1)\n",
    "        # z: (batch_size, 3 * 32 * 32)\n",
    "\n",
    "        # decoder_input = torch.hstack((x, z.unsqueeze(0).repeat(1, x.shape[-2], 1)))\n",
    "        decoder_input = torch.cat((x, z.unsqueeze(1).repeat(1, x.shape[-2], 1)), -1)\n",
    "        s = self.decoder(decoder_input)\n",
    "\n",
    "        return s\n"
   ]
  },
  {
   "cell_type": "code",
   "execution_count": 4,
   "metadata": {},
   "outputs": [],
   "source": [
    "device = torch.device(\"cuda\" if torch.cuda.is_available() else \"cpu\")\n",
    "dataset = CelebA(\n",
    "    \"data\",\n",
    "    \"train\",\n",
    "    download=False,\n",
    "    transform=transforms.Compose([transforms.ToTensor(), transforms.Resize((32, 32))]),\n",
    ")\n",
    "dataloader = DataLoader(dataset, 8, shuffle=True, num_workers=4)\n"
   ]
  },
  {
   "cell_type": "code",
   "execution_count": 26,
   "metadata": {},
   "outputs": [],
   "source": [
    "model = IIF().to(device)\n",
    "optimizer = torch.optim.AdamW(model.parameters(), lr=1e-4)\n",
    "\n",
    "\n",
    "def to_coords(image: torch.Tensor, mask: torch.Tensor):\n",
    "    # image: (batch_size, 3, 32, 32)\n",
    "    # mask: (batch_size, 3, 32, 32)\n",
    "    coords = mask[0, 0].nonzero(as_tuple=True)\n",
    "    image_data = image[..., :, coords[0], coords[1]].transpose(-1, -2)\n",
    "\n",
    "    coords = mask[0, 0].nonzero().unsqueeze(0).repeat(image_data.shape[0], 1, 1)\n",
    "\n",
    "    return (image_data, coords)\n",
    "\n",
    "\n",
    "def from_coords(shape, x, s):\n",
    "    # x: (batch_size, n, 2)\n",
    "    # s: (batch_size, n, 3)\n",
    "    image = torch.zeros(shape, device=x.device)\n",
    "    # image: (batch_size, n, 32, 32)\n",
    "\n",
    "    for i in range(shape[0]):\n",
    "        image[i, :, x.T[0], x.T[1]] = s.T\n",
    "\n",
    "    return image\n"
   ]
  },
  {
   "cell_type": "code",
   "execution_count": 6,
   "metadata": {},
   "outputs": [
    {
     "name": "stdout",
     "output_type": "stream",
     "text": [
      "iteration 0 - loss 0.2815866470336914\n"
     ]
    }
   ],
   "source": [
    "model.train()\n",
    "\n",
    "for i, (images, _) in enumerate(dataloader):\n",
    "    images = images.to(device)\n",
    "    masked, mask = mask_random(images, 0.5)\n",
    "\n",
    "    s, x = to_coords(images, mask.logical_not())\n",
    "    x = x / 16.0 - 1.0  # (-1, 0)\n",
    "\n",
    "    # s: (batch_size, n, 3)\n",
    "    # x: (batch_size, n, 2)\n",
    "\n",
    "    optimizer.zero_grad()\n",
    "    s_pred = model(masked, mask, x)\n",
    "\n",
    "    loss = ((s - s_pred) ** 2).mean()\n",
    "    loss.backward()\n",
    "    optimizer.step()\n",
    "\n",
    "    if i == 10:\n",
    "        break\n",
    "\n",
    "    if i % 10000 == 0:\n",
    "        print(f\"iteration {i} - loss {loss.item()}\")\n"
   ]
  },
  {
   "cell_type": "code",
   "execution_count": 35,
   "metadata": {},
   "outputs": [
    {
     "data": {
      "image/png": "[encoded data removed]",
      "text/plain": [
       "<Figure size 1152x288 with 4 Axes>"
      ]
     },
     "metadata": {
      "needs_background": "light"
     },
     "output_type": "display_data"
    }
   ],
   "source": [
    "model.eval()\n",
    "\n",
    "images, _ = next(iter(dataloader))\n",
    "images = images.to(device)\n",
    "\n",
    "masked, mask = mask_random(images, 0.4)\n",
    "s, x = to_coords(masked, mask.logical_not())\n",
    "s_pred = model(masked, mask, x)\n",
    "\n",
    "plt.figure(figsize=(16, 4))\n",
    "\n",
    "plt.subplot(141)\n",
    "plt.imshow(to_pil_image((from_coords((8, 3, 32, 32), x, s_pred) + images * mask)[0]))\n",
    "plt.subplot(142)\n",
    "plt.imshow(to_pil_image(masked[0]))\n",
    "\n",
    "plt.subplot(143)\n",
    "plt.imshow(to_pil_image(images[0]))\n",
    "\n",
    "plt.subplot(144)\n",
    "plt.imshow(to_pil_image(mask[0]))\n",
    "\n",
    "plt.show()\n"
   ]
  },
  {
   "cell_type": "code",
   "execution_count": null,
   "metadata": {},
   "outputs": [],
   "source": []
  }
 ],
 "metadata": {
  "interpreter": {
   "hash": "b0fa6594d8f4cbf19f97940f81e996739fb7646882a419484c72d19e05852a7e"
  },
  "kernelspec": {
   "display_name": "default:Python",
   "language": "python",
   "name": "python3"
  },
  "language_info": {
   "codemirror_mode": {
    "name": "ipython",
    "version": 3
   },
   "file_extension": ".py",
   "mimetype": "text/x-python",
   "name": "python",
   "nbconvert_exporter": "python",
   "pygments_lexer": "ipython3",
   "version": "3.9.10"
  }
 },
 "nbformat": 4,
 "nbformat_minor": 4
}
